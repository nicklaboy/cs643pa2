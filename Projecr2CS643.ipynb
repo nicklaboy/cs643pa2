{
 "cells": [
  {
   "cell_type": "code",
   "execution_count": 341,
   "metadata": {},
   "outputs": [],
   "source": [
    "from pyspark import SparkConf, SparkContext\n",
    "from pyspark.sql import SparkSession\n",
    "from pyspark.ml.classification import LogisticRegression\n",
    "from pyspark.ml.feature import OneHotEncoder, StringIndexer, VectorAssembler\n",
    "from pyspark.ml import Pipeline\n",
    "from pyspark.sql.types import StructType, StructField, IntegerType, StringType\n",
    "from pyspark.ml.regression import LinearRegression\n",
    "from pyspark.ml.evaluation import RegressionEvaluator\n",
    "from pyspark.sql.functions import *\n",
    "from pyspark.ml import Pipeline\n",
    "from pyspark.ml.tuning import ParamGridBuilder\n",
    "from pyspark.ml.tuning import CrossValidator\n",
    "from pyspark.ml.regression import RandomForestRegressor\n",
    "from pyspark.mllib.tree import RandomForest\n",
    "from pyspark.mllib.linalg import Vectors\n",
    "from pyspark.mllib.regression import LabeledPoint\n",
    "from pyspark.mllib.evaluation import MulticlassMetrics\n",
    "import pandas as pd\n",
    "import csv\n",
    "import mlflow\n",
    "import mlflow.pyfunc\n",
    "import mlflow.sklearn\n",
    "import numpy as np\n",
    "import sklearn\n",
    "from sklearn.ensemble import RandomForestClassifier\n",
    "from sklearn.metrics import roc_auc_score\n",
    "from mlflow.models.signature import infer_signature\n",
    "from mlflow.utils.environment import _mlflow_conda_env\n",
    "import cloudpickle\n",
    "from time import *\n",
    "from pyspark.mllib.linalg import Vectors"
   ]
  },
  {
   "cell_type": "code",
   "execution_count": 342,
   "metadata": {},
   "outputs": [],
   "source": [
    "spark = SparkSession.builder.appName(\"CS643\").getOrCreate()"
   ]
  },
  {
   "cell_type": "code",
   "execution_count": 343,
   "metadata": {},
   "outputs": [],
   "source": [
    "trainDF = spark.read.format(\"csv\").load(\"ValidationDataset.csv\" , inferSchema='true',header = True ,sep =\";\")"
   ]
  },
  {
   "cell_type": "code",
   "execution_count": 344,
   "metadata": {},
   "outputs": [
    {
     "name": "stdout",
     "output_type": "stream",
     "text": [
      "root\n",
      " |-- \"\"\"fixed acidity\"\"\"\": double (nullable = true)\n",
      " |-- \"\"\"\"volatile acidity\"\"\"\": double (nullable = true)\n",
      " |-- \"\"\"\"citric acid\"\"\"\": double (nullable = true)\n",
      " |-- \"\"\"\"residual sugar\"\"\"\": double (nullable = true)\n",
      " |-- \"\"\"\"chlorides\"\"\"\": double (nullable = true)\n",
      " |-- \"\"\"\"free sulfur dioxide\"\"\"\": integer (nullable = true)\n",
      " |-- \"\"\"\"total sulfur dioxide\"\"\"\": integer (nullable = true)\n",
      " |-- \"\"\"\"density\"\"\"\": double (nullable = true)\n",
      " |-- \"\"\"\"pH\"\"\"\": double (nullable = true)\n",
      " |-- \"\"\"\"sulphates\"\"\"\": double (nullable = true)\n",
      " |-- \"\"\"\"alcohol\"\"\"\": double (nullable = true)\n",
      " |-- \"\"\"\"quality\"\"\"\"\": integer (nullable = true)\n",
      "\n",
      "Rows: 160\n"
     ]
    }
   ],
   "source": [
    "trainDF.printSchema()\n",
    "print(\"Rows: %s\" % trainDF.count())"
   ]
  },
  {
   "cell_type": "code",
   "execution_count": 345,
   "metadata": {},
   "outputs": [
    {
     "data": {
      "text/html": [
       "<div>\n",
       "<style scoped>\n",
       "    .dataframe tbody tr th:only-of-type {\n",
       "        vertical-align: middle;\n",
       "    }\n",
       "\n",
       "    .dataframe tbody tr th {\n",
       "        vertical-align: top;\n",
       "    }\n",
       "\n",
       "    .dataframe thead th {\n",
       "        text-align: right;\n",
       "    }\n",
       "</style>\n",
       "<table border=\"1\" class=\"dataframe\">\n",
       "  <thead>\n",
       "    <tr style=\"text-align: right;\">\n",
       "      <th></th>\n",
       "      <th>\"\"\"fixed acidity\"\"\"\"</th>\n",
       "      <th>\"\"\"\"volatile acidity\"\"\"\"</th>\n",
       "      <th>\"\"\"\"citric acid\"\"\"\"</th>\n",
       "      <th>\"\"\"\"residual sugar\"\"\"\"</th>\n",
       "      <th>\"\"\"\"chlorides\"\"\"\"</th>\n",
       "      <th>\"\"\"\"free sulfur dioxide\"\"\"\"</th>\n",
       "      <th>\"\"\"\"total sulfur dioxide\"\"\"\"</th>\n",
       "      <th>\"\"\"\"density\"\"\"\"</th>\n",
       "      <th>\"\"\"\"pH\"\"\"\"</th>\n",
       "      <th>\"\"\"\"sulphates\"\"\"\"</th>\n",
       "      <th>\"\"\"\"alcohol\"\"\"\"</th>\n",
       "      <th>\"\"\"\"quality\"\"\"\"\"</th>\n",
       "    </tr>\n",
       "  </thead>\n",
       "  <tbody>\n",
       "    <tr>\n",
       "      <th>0</th>\n",
       "      <td>7.4</td>\n",
       "      <td>0.70</td>\n",
       "      <td>0.00</td>\n",
       "      <td>1.9</td>\n",
       "      <td>0.076</td>\n",
       "      <td>11</td>\n",
       "      <td>34</td>\n",
       "      <td>0.9978</td>\n",
       "      <td>3.51</td>\n",
       "      <td>0.56</td>\n",
       "      <td>9.4</td>\n",
       "      <td>5</td>\n",
       "    </tr>\n",
       "    <tr>\n",
       "      <th>1</th>\n",
       "      <td>7.8</td>\n",
       "      <td>0.88</td>\n",
       "      <td>0.00</td>\n",
       "      <td>2.6</td>\n",
       "      <td>0.098</td>\n",
       "      <td>25</td>\n",
       "      <td>67</td>\n",
       "      <td>0.9968</td>\n",
       "      <td>3.20</td>\n",
       "      <td>0.68</td>\n",
       "      <td>9.8</td>\n",
       "      <td>5</td>\n",
       "    </tr>\n",
       "    <tr>\n",
       "      <th>2</th>\n",
       "      <td>7.8</td>\n",
       "      <td>0.76</td>\n",
       "      <td>0.04</td>\n",
       "      <td>2.3</td>\n",
       "      <td>0.092</td>\n",
       "      <td>15</td>\n",
       "      <td>54</td>\n",
       "      <td>0.9970</td>\n",
       "      <td>3.26</td>\n",
       "      <td>0.65</td>\n",
       "      <td>9.8</td>\n",
       "      <td>5</td>\n",
       "    </tr>\n",
       "    <tr>\n",
       "      <th>3</th>\n",
       "      <td>11.2</td>\n",
       "      <td>0.28</td>\n",
       "      <td>0.56</td>\n",
       "      <td>1.9</td>\n",
       "      <td>0.075</td>\n",
       "      <td>17</td>\n",
       "      <td>60</td>\n",
       "      <td>0.9980</td>\n",
       "      <td>3.16</td>\n",
       "      <td>0.58</td>\n",
       "      <td>9.8</td>\n",
       "      <td>6</td>\n",
       "    </tr>\n",
       "    <tr>\n",
       "      <th>4</th>\n",
       "      <td>7.4</td>\n",
       "      <td>0.70</td>\n",
       "      <td>0.00</td>\n",
       "      <td>1.9</td>\n",
       "      <td>0.076</td>\n",
       "      <td>11</td>\n",
       "      <td>34</td>\n",
       "      <td>0.9978</td>\n",
       "      <td>3.51</td>\n",
       "      <td>0.56</td>\n",
       "      <td>9.4</td>\n",
       "      <td>5</td>\n",
       "    </tr>\n",
       "  </tbody>\n",
       "</table>\n",
       "</div>"
      ],
      "text/plain": [
       "   \"\"\"fixed acidity\"\"\"\"  \"\"\"\"volatile acidity\"\"\"\"  \"\"\"\"citric acid\"\"\"\"  \\\n",
       "0                   7.4                      0.70                 0.00   \n",
       "1                   7.8                      0.88                 0.00   \n",
       "2                   7.8                      0.76                 0.04   \n",
       "3                  11.2                      0.28                 0.56   \n",
       "4                   7.4                      0.70                 0.00   \n",
       "\n",
       "   \"\"\"\"residual sugar\"\"\"\"  \"\"\"\"chlorides\"\"\"\"  \"\"\"\"free sulfur dioxide\"\"\"\"  \\\n",
       "0                     1.9              0.076                           11   \n",
       "1                     2.6              0.098                           25   \n",
       "2                     2.3              0.092                           15   \n",
       "3                     1.9              0.075                           17   \n",
       "4                     1.9              0.076                           11   \n",
       "\n",
       "   \"\"\"\"total sulfur dioxide\"\"\"\"  \"\"\"\"density\"\"\"\"  \"\"\"\"pH\"\"\"\"  \\\n",
       "0                            34           0.9978        3.51   \n",
       "1                            67           0.9968        3.20   \n",
       "2                            54           0.9970        3.26   \n",
       "3                            60           0.9980        3.16   \n",
       "4                            34           0.9978        3.51   \n",
       "\n",
       "   \"\"\"\"sulphates\"\"\"\"  \"\"\"\"alcohol\"\"\"\"  \"\"\"\"quality\"\"\"\"\"  \n",
       "0               0.56              9.4                 5  \n",
       "1               0.68              9.8                 5  \n",
       "2               0.65              9.8                 5  \n",
       "3               0.58              9.8                 6  \n",
       "4               0.56              9.4                 5  "
      ]
     },
     "execution_count": 345,
     "metadata": {},
     "output_type": "execute_result"
    }
   ],
   "source": [
    "trainDF.limit(5).toPandas()"
   ]
  },
  {
   "cell_type": "markdown",
   "metadata": {},
   "source": [
    "# Building the model"
   ]
  },
  {
   "cell_type": "code",
   "execution_count": 346,
   "metadata": {},
   "outputs": [
    {
     "data": {
      "text/html": [
       "<div>\n",
       "<style scoped>\n",
       "    .dataframe tbody tr th:only-of-type {\n",
       "        vertical-align: middle;\n",
       "    }\n",
       "\n",
       "    .dataframe tbody tr th {\n",
       "        vertical-align: top;\n",
       "    }\n",
       "\n",
       "    .dataframe thead th {\n",
       "        text-align: right;\n",
       "    }\n",
       "</style>\n",
       "<table border=\"1\" class=\"dataframe\">\n",
       "  <thead>\n",
       "    <tr style=\"text-align: right;\">\n",
       "      <th></th>\n",
       "      <th>\"\"\"fixed acidity\"\"\"\"</th>\n",
       "      <th>\"\"\"\"volatile acidity\"\"\"\"</th>\n",
       "      <th>\"\"\"\"citric acid\"\"\"\"</th>\n",
       "      <th>\"\"\"\"residual sugar\"\"\"\"</th>\n",
       "      <th>\"\"\"\"chlorides\"\"\"\"</th>\n",
       "      <th>\"\"\"\"free sulfur dioxide\"\"\"\"</th>\n",
       "      <th>\"\"\"\"total sulfur dioxide\"\"\"\"</th>\n",
       "      <th>\"\"\"\"density\"\"\"\"</th>\n",
       "      <th>\"\"\"\"pH\"\"\"\"</th>\n",
       "      <th>\"\"\"\"sulphates\"\"\"\"</th>\n",
       "      <th>\"\"\"\"alcohol\"\"\"\"</th>\n",
       "      <th>\"\"\"\"quality\"\"\"\"\"</th>\n",
       "      <th>features</th>\n",
       "    </tr>\n",
       "  </thead>\n",
       "  <tbody>\n",
       "    <tr>\n",
       "      <th>0</th>\n",
       "      <td>7.4</td>\n",
       "      <td>0.70</td>\n",
       "      <td>0.00</td>\n",
       "      <td>1.9</td>\n",
       "      <td>0.076</td>\n",
       "      <td>11</td>\n",
       "      <td>34</td>\n",
       "      <td>0.9978</td>\n",
       "      <td>3.51</td>\n",
       "      <td>0.56</td>\n",
       "      <td>9.4</td>\n",
       "      <td>5</td>\n",
       "      <td>[7.4, 0.7, 0.0, 1.9, 0.076, 11.0, 34.0, 0.9978...</td>\n",
       "    </tr>\n",
       "    <tr>\n",
       "      <th>1</th>\n",
       "      <td>7.8</td>\n",
       "      <td>0.88</td>\n",
       "      <td>0.00</td>\n",
       "      <td>2.6</td>\n",
       "      <td>0.098</td>\n",
       "      <td>25</td>\n",
       "      <td>67</td>\n",
       "      <td>0.9968</td>\n",
       "      <td>3.20</td>\n",
       "      <td>0.68</td>\n",
       "      <td>9.8</td>\n",
       "      <td>5</td>\n",
       "      <td>[7.8, 0.88, 0.0, 2.6, 0.098, 25.0, 67.0, 0.996...</td>\n",
       "    </tr>\n",
       "    <tr>\n",
       "      <th>2</th>\n",
       "      <td>7.8</td>\n",
       "      <td>0.76</td>\n",
       "      <td>0.04</td>\n",
       "      <td>2.3</td>\n",
       "      <td>0.092</td>\n",
       "      <td>15</td>\n",
       "      <td>54</td>\n",
       "      <td>0.9970</td>\n",
       "      <td>3.26</td>\n",
       "      <td>0.65</td>\n",
       "      <td>9.8</td>\n",
       "      <td>5</td>\n",
       "      <td>[7.8, 0.76, 0.04, 2.3, 0.092, 15.0, 54.0, 0.99...</td>\n",
       "    </tr>\n",
       "    <tr>\n",
       "      <th>3</th>\n",
       "      <td>11.2</td>\n",
       "      <td>0.28</td>\n",
       "      <td>0.56</td>\n",
       "      <td>1.9</td>\n",
       "      <td>0.075</td>\n",
       "      <td>17</td>\n",
       "      <td>60</td>\n",
       "      <td>0.9980</td>\n",
       "      <td>3.16</td>\n",
       "      <td>0.58</td>\n",
       "      <td>9.8</td>\n",
       "      <td>6</td>\n",
       "      <td>[11.2, 0.28, 0.56, 1.9, 0.075, 17.0, 60.0, 0.9...</td>\n",
       "    </tr>\n",
       "    <tr>\n",
       "      <th>4</th>\n",
       "      <td>7.4</td>\n",
       "      <td>0.70</td>\n",
       "      <td>0.00</td>\n",
       "      <td>1.9</td>\n",
       "      <td>0.076</td>\n",
       "      <td>11</td>\n",
       "      <td>34</td>\n",
       "      <td>0.9978</td>\n",
       "      <td>3.51</td>\n",
       "      <td>0.56</td>\n",
       "      <td>9.4</td>\n",
       "      <td>5</td>\n",
       "      <td>[7.4, 0.7, 0.0, 1.9, 0.076, 11.0, 34.0, 0.9978...</td>\n",
       "    </tr>\n",
       "  </tbody>\n",
       "</table>\n",
       "</div>"
      ],
      "text/plain": [
       "   \"\"\"fixed acidity\"\"\"\"  \"\"\"\"volatile acidity\"\"\"\"  \"\"\"\"citric acid\"\"\"\"  \\\n",
       "0                   7.4                      0.70                 0.00   \n",
       "1                   7.8                      0.88                 0.00   \n",
       "2                   7.8                      0.76                 0.04   \n",
       "3                  11.2                      0.28                 0.56   \n",
       "4                   7.4                      0.70                 0.00   \n",
       "\n",
       "   \"\"\"\"residual sugar\"\"\"\"  \"\"\"\"chlorides\"\"\"\"  \"\"\"\"free sulfur dioxide\"\"\"\"  \\\n",
       "0                     1.9              0.076                           11   \n",
       "1                     2.6              0.098                           25   \n",
       "2                     2.3              0.092                           15   \n",
       "3                     1.9              0.075                           17   \n",
       "4                     1.9              0.076                           11   \n",
       "\n",
       "   \"\"\"\"total sulfur dioxide\"\"\"\"  \"\"\"\"density\"\"\"\"  \"\"\"\"pH\"\"\"\"  \\\n",
       "0                            34           0.9978        3.51   \n",
       "1                            67           0.9968        3.20   \n",
       "2                            54           0.9970        3.26   \n",
       "3                            60           0.9980        3.16   \n",
       "4                            34           0.9978        3.51   \n",
       "\n",
       "   \"\"\"\"sulphates\"\"\"\"  \"\"\"\"alcohol\"\"\"\"  \"\"\"\"quality\"\"\"\"\"  \\\n",
       "0               0.56              9.4                 5   \n",
       "1               0.68              9.8                 5   \n",
       "2               0.65              9.8                 5   \n",
       "3               0.58              9.8                 6   \n",
       "4               0.56              9.4                 5   \n",
       "\n",
       "                                            features  \n",
       "0  [7.4, 0.7, 0.0, 1.9, 0.076, 11.0, 34.0, 0.9978...  \n",
       "1  [7.8, 0.88, 0.0, 2.6, 0.098, 25.0, 67.0, 0.996...  \n",
       "2  [7.8, 0.76, 0.04, 2.3, 0.092, 15.0, 54.0, 0.99...  \n",
       "3  [11.2, 0.28, 0.56, 1.9, 0.075, 17.0, 60.0, 0.9...  \n",
       "4  [7.4, 0.7, 0.0, 1.9, 0.076, 11.0, 34.0, 0.9978...  "
      ]
     },
     "execution_count": 346,
     "metadata": {},
     "output_type": "execute_result"
    }
   ],
   "source": [
    "getCols = [c for c in trainDF.columns if c != '\"\"\"\"quality\"\"\"\"\"']\n",
    "assemeble = VectorAssembler(inputCols=getCols, outputCol=\"features\")\n",
    "wineData = assemeble.transform(trainDF)\n",
    "wineData.limit(5).toPandas()"
   ]
  },
  {
   "cell_type": "code",
   "execution_count": 347,
   "metadata": {},
   "outputs": [
    {
     "name": "stdout",
     "output_type": "stream",
     "text": [
      "('\"\"\"fixed acidity\"\"\"\"', 0.0)\n",
      "('\"\"\"\"volatile acidity\"\"\"\"', -0.814880195750423)\n",
      "('\"\"\"\"citric acid\"\"\"\"', 9.889853024318596e-05)\n",
      "('\"\"\"\"residual sugar\"\"\"\"', 0.0)\n",
      "('\"\"\"\"chlorides\"\"\"\"', -0.24994146990870497)\n",
      "('\"\"\"\"free sulfur dioxide\"\"\"\"', 0.0)\n",
      "('\"\"\"\"total sulfur dioxide\"\"\"\"', -0.0014268768943000551)\n",
      "('\"\"\"\"density\"\"\"\"', 0.0)\n",
      "('\"\"\"\"pH\"\"\"\"', 0.0)\n",
      "('\"\"\"\"sulphates\"\"\"\"', 0.0)\n",
      "('\"\"\"\"alcohol\"\"\"\"', 0.22998287568348508)\n"
     ]
    }
   ],
   "source": [
    "lr = LinearRegression(maxIter=30, regParam=0.3, elasticNetParam=0.3, featuresCol=\"features\", labelCol='\"\"\"\"quality\"\"\"\"\"')\n",
    "lrModel = lr.fit(wineData)\n",
    "for x in zip(getCols, lrModel.coefficients):\n",
    "    print(x)"
   ]
  },
  {
   "cell_type": "code",
   "execution_count": 348,
   "metadata": {},
   "outputs": [
    {
     "data": {
      "text/html": [
       "<div>\n",
       "<style scoped>\n",
       "    .dataframe tbody tr th:only-of-type {\n",
       "        vertical-align: middle;\n",
       "    }\n",
       "\n",
       "    .dataframe tbody tr th {\n",
       "        vertical-align: top;\n",
       "    }\n",
       "\n",
       "    .dataframe thead th {\n",
       "        text-align: right;\n",
       "    }\n",
       "</style>\n",
       "<table border=\"1\" class=\"dataframe\">\n",
       "  <thead>\n",
       "    <tr style=\"text-align: right;\">\n",
       "      <th></th>\n",
       "      <th>\"\"\"fixed acidity\"\"\"\"</th>\n",
       "      <th>\"\"\"\"volatile acidity\"\"\"\"</th>\n",
       "      <th>\"\"\"\"citric acid\"\"\"\"</th>\n",
       "      <th>\"\"\"\"residual sugar\"\"\"\"</th>\n",
       "      <th>\"\"\"\"chlorides\"\"\"\"</th>\n",
       "      <th>\"\"\"\"free sulfur dioxide\"\"\"\"</th>\n",
       "      <th>\"\"\"\"total sulfur dioxide\"\"\"\"</th>\n",
       "      <th>\"\"\"\"density\"\"\"\"</th>\n",
       "      <th>\"\"\"\"pH\"\"\"\"</th>\n",
       "      <th>\"\"\"\"sulphates\"\"\"\"</th>\n",
       "      <th>\"\"\"\"alcohol\"\"\"\"</th>\n",
       "      <th>\"\"\"\"quality\"\"\"\"\"</th>\n",
       "      <th>features</th>\n",
       "      <th>prediction</th>\n",
       "    </tr>\n",
       "  </thead>\n",
       "  <tbody>\n",
       "    <tr>\n",
       "      <th>0</th>\n",
       "      <td>7.4</td>\n",
       "      <td>0.70</td>\n",
       "      <td>0.00</td>\n",
       "      <td>1.9</td>\n",
       "      <td>0.076</td>\n",
       "      <td>11</td>\n",
       "      <td>34</td>\n",
       "      <td>0.9978</td>\n",
       "      <td>3.51</td>\n",
       "      <td>0.56</td>\n",
       "      <td>9.4</td>\n",
       "      <td>5</td>\n",
       "      <td>[7.4, 0.7, 0.0, 1.9, 0.076, 11.0, 34.0, 0.9978...</td>\n",
       "      <td>5.393699</td>\n",
       "    </tr>\n",
       "    <tr>\n",
       "      <th>1</th>\n",
       "      <td>7.8</td>\n",
       "      <td>0.88</td>\n",
       "      <td>0.00</td>\n",
       "      <td>2.6</td>\n",
       "      <td>0.098</td>\n",
       "      <td>25</td>\n",
       "      <td>67</td>\n",
       "      <td>0.9968</td>\n",
       "      <td>3.20</td>\n",
       "      <td>0.68</td>\n",
       "      <td>9.8</td>\n",
       "      <td>5</td>\n",
       "      <td>[7.8, 0.88, 0.0, 2.6, 0.098, 25.0, 67.0, 0.996...</td>\n",
       "      <td>5.286428</td>\n",
       "    </tr>\n",
       "    <tr>\n",
       "      <th>2</th>\n",
       "      <td>7.8</td>\n",
       "      <td>0.76</td>\n",
       "      <td>0.04</td>\n",
       "      <td>2.3</td>\n",
       "      <td>0.092</td>\n",
       "      <td>15</td>\n",
       "      <td>54</td>\n",
       "      <td>0.9970</td>\n",
       "      <td>3.26</td>\n",
       "      <td>0.65</td>\n",
       "      <td>9.8</td>\n",
       "      <td>5</td>\n",
       "      <td>[7.8, 0.76, 0.04, 2.3, 0.092, 15.0, 54.0, 0.99...</td>\n",
       "      <td>5.404267</td>\n",
       "    </tr>\n",
       "    <tr>\n",
       "      <th>3</th>\n",
       "      <td>11.2</td>\n",
       "      <td>0.28</td>\n",
       "      <td>0.56</td>\n",
       "      <td>1.9</td>\n",
       "      <td>0.075</td>\n",
       "      <td>17</td>\n",
       "      <td>60</td>\n",
       "      <td>0.9980</td>\n",
       "      <td>3.16</td>\n",
       "      <td>0.58</td>\n",
       "      <td>9.8</td>\n",
       "      <td>6</td>\n",
       "      <td>[11.2, 0.28, 0.56, 1.9, 0.075, 17.0, 60.0, 0.9...</td>\n",
       "      <td>5.791148</td>\n",
       "    </tr>\n",
       "    <tr>\n",
       "      <th>4</th>\n",
       "      <td>7.4</td>\n",
       "      <td>0.70</td>\n",
       "      <td>0.00</td>\n",
       "      <td>1.9</td>\n",
       "      <td>0.076</td>\n",
       "      <td>11</td>\n",
       "      <td>34</td>\n",
       "      <td>0.9978</td>\n",
       "      <td>3.51</td>\n",
       "      <td>0.56</td>\n",
       "      <td>9.4</td>\n",
       "      <td>5</td>\n",
       "      <td>[7.4, 0.7, 0.0, 1.9, 0.076, 11.0, 34.0, 0.9978...</td>\n",
       "      <td>5.393699</td>\n",
       "    </tr>\n",
       "  </tbody>\n",
       "</table>\n",
       "</div>"
      ],
      "text/plain": [
       "   \"\"\"fixed acidity\"\"\"\"  \"\"\"\"volatile acidity\"\"\"\"  \"\"\"\"citric acid\"\"\"\"  \\\n",
       "0                   7.4                      0.70                 0.00   \n",
       "1                   7.8                      0.88                 0.00   \n",
       "2                   7.8                      0.76                 0.04   \n",
       "3                  11.2                      0.28                 0.56   \n",
       "4                   7.4                      0.70                 0.00   \n",
       "\n",
       "   \"\"\"\"residual sugar\"\"\"\"  \"\"\"\"chlorides\"\"\"\"  \"\"\"\"free sulfur dioxide\"\"\"\"  \\\n",
       "0                     1.9              0.076                           11   \n",
       "1                     2.6              0.098                           25   \n",
       "2                     2.3              0.092                           15   \n",
       "3                     1.9              0.075                           17   \n",
       "4                     1.9              0.076                           11   \n",
       "\n",
       "   \"\"\"\"total sulfur dioxide\"\"\"\"  \"\"\"\"density\"\"\"\"  \"\"\"\"pH\"\"\"\"  \\\n",
       "0                            34           0.9978        3.51   \n",
       "1                            67           0.9968        3.20   \n",
       "2                            54           0.9970        3.26   \n",
       "3                            60           0.9980        3.16   \n",
       "4                            34           0.9978        3.51   \n",
       "\n",
       "   \"\"\"\"sulphates\"\"\"\"  \"\"\"\"alcohol\"\"\"\"  \"\"\"\"quality\"\"\"\"\"  \\\n",
       "0               0.56              9.4                 5   \n",
       "1               0.68              9.8                 5   \n",
       "2               0.65              9.8                 5   \n",
       "3               0.58              9.8                 6   \n",
       "4               0.56              9.4                 5   \n",
       "\n",
       "                                            features  prediction  \n",
       "0  [7.4, 0.7, 0.0, 1.9, 0.076, 11.0, 34.0, 0.9978...    5.393699  \n",
       "1  [7.8, 0.88, 0.0, 2.6, 0.098, 25.0, 67.0, 0.996...    5.286428  \n",
       "2  [7.8, 0.76, 0.04, 2.3, 0.092, 15.0, 54.0, 0.99...    5.404267  \n",
       "3  [11.2, 0.28, 0.56, 1.9, 0.075, 17.0, 60.0, 0.9...    5.791148  \n",
       "4  [7.4, 0.7, 0.0, 1.9, 0.076, 11.0, 34.0, 0.9978...    5.393699  "
      ]
     },
     "execution_count": 348,
     "metadata": {},
     "output_type": "execute_result"
    }
   ],
   "source": [
    "predict = lrModel.transform(wineData)\n",
    "predict.limit(5).toPandas()"
   ]
  },
  {
   "cell_type": "code",
   "execution_count": 349,
   "metadata": {},
   "outputs": [
    {
     "name": "stdout",
     "output_type": "stream",
     "text": [
      "RMSE = 0.681953\n"
     ]
    }
   ],
   "source": [
    "evaluateData = RegressionEvaluator(labelCol='\"\"\"\"quality\"\"\"\"\"', predictionCol=\"prediction\", metricName=\"rmse\")\n",
    "rmse = evaluateData.evaluate(predict)\n",
    "print(\"RMSE = %g\" %rmse)"
   ]
  },
  {
   "cell_type": "markdown",
   "metadata": {},
   "source": [
    "### now need to compare to another model to see how well it actualy is"
   ]
  },
  {
   "cell_type": "code",
   "execution_count": 350,
   "metadata": {},
   "outputs": [
    {
     "name": "stdout",
     "output_type": "stream",
     "text": [
      "5.73125\n",
      "RMSE of baseline = 0.827057\n"
     ]
    }
   ],
   "source": [
    "#this gets the avg wine quality\n",
    "avgQ = trainDF.groupBy().avg('\"\"\"\"quality\"\"\"\"\"').first()[0]\n",
    "print(avgQ)\n",
    "#need to create a baseline to est the model\n",
    "baseline = wineData.select(col('\"\"\"\"quality\"\"\"\"\"'), lit(avgQ).alias('prediction'))\n",
    "baselineRmse = evaluateData.evaluate(baseline)\n",
    "print(\"RMSE of baseline = %g\" %baselineRmse)"
   ]
  },
  {
   "cell_type": "code",
   "execution_count": 351,
   "metadata": {},
   "outputs": [
    {
     "name": "stdout",
     "output_type": "stream",
     "text": [
      "RMSE on training DF = 0.683055\n",
      "RMSE on test DF = 0.666021\n"
     ]
    }
   ],
   "source": [
    "(trainDF, testDF) = trainDF.randomSplit([0.7, 0.3])\n",
    "pipe = Pipeline(stages=[assemeble, lr])\n",
    "lrPipeModel = pipe.fit(trainDF)\n",
    "trainPredDF = lrPipeModel.transform(trainDF)\n",
    "testPredDF = lrPipeModel.transform(testDF)\n",
    "print(\"RMSE on training DF = %g\" % evaluateData.evaluate(trainPredDF))\n",
    "print(\"RMSE on test DF = %g\" % evaluateData.evaluate(testPredDF))"
   ]
  },
  {
   "cell_type": "code",
   "execution_count": 352,
   "metadata": {},
   "outputs": [
    {
     "name": "stdout",
     "output_type": "stream",
     "text": [
      "RMSE on test data cross validate = 0.674542\n",
      "[0.7111600851588912, 0.7111600851588912, 0.7111600851588912, 0.7051034952421694, 0.725221797181878, 0.7504106245048159, 0.8139591179772736, 0.8370786326843926, 0.8370786326843926]\n"
     ]
    }
   ],
   "source": [
    "search = ParamGridBuilder() \\\n",
    "    .addGrid(lr.regParam, [0.0, 0.3, 0.9]) \\\n",
    "    .addGrid(lr.elasticNetParam, [0.4, 0.6, 0.8]).build()\n",
    "crossValidate = CrossValidator(estimator=pipe, estimatorParamMaps= search, evaluator=evaluateData, numFolds=3)\n",
    "model = crossValidate.fit(trainDF)\n",
    "cvTestPred = model.transform(testDF)\n",
    "print(\"RMSE on test data cross validate = %g\" % evaluateData.evaluate(cvTestPred))\n",
    "print(model.avgMetrics)"
   ]
  },
  {
   "cell_type": "markdown",
   "metadata": {},
   "source": [
    "## Random Forest"
   ]
  },
  {
   "cell_type": "code",
   "execution_count": 353,
   "metadata": {},
   "outputs": [
    {
     "name": "stdout",
     "output_type": "stream",
     "text": [
      "RF RMSE on training data = 0.242234\n",
      "RF RMSE on test data = 0.589819\n"
     ]
    }
   ],
   "source": [
    "forest = RandomForestRegressor(featuresCol=\"features\", labelCol='\"\"\"\"quality\"\"\"\"\"', numTrees=100, maxBins=128, maxDepth=20)\n",
    "rfPipe = Pipeline(stages=[assemeble, forest])\n",
    "rfPipeModel = rfPipe.fit(trainDF)\n",
    "rfTrainPred = rfPipeModel.transform(trainDF)\n",
    "rfTestPred = rfPipeModel.transform(testDF)\n",
    "\n",
    "print(\"RF RMSE on training data = %g\" % evaluateData.evaluate(rfTrainPred))\n",
    "print(\"RF RMSE on test data = %g\" % evaluateData.evaluate(rfTestPred))"
   ]
  },
  {
   "cell_type": "markdown",
   "metadata": {},
   "source": [
    "## Gettting the F1 score"
   ]
  },
  {
   "cell_type": "code",
   "execution_count": 354,
   "metadata": {},
   "outputs": [],
   "source": [
    "transformData = trainDF.rdd.map(lambda row: LabeledPoint(row[-1], Vectors.dense(row[0:-1])))\n",
    "split = [0.01, 1.0-.01]\n",
    "trainData, testData = transformData.randomSplit(split, 1)"
   ]
  },
  {
   "cell_type": "code",
   "execution_count": 355,
   "metadata": {},
   "outputs": [
    {
     "name": "stdout",
     "output_type": "stream",
     "text": [
      "1.0837018489837646\n",
      "36.84210526315789\n"
     ]
    }
   ],
   "source": [
    "start = time()\n",
    "model = RandomForest.trainClassifier(trainData, numClasses=10, \\\n",
    "                                    categoricalFeaturesInfo={}, \\\n",
    "                                    numTrees=3, featureSubsetStrategy=\"auto\", impurity=\"gini\", \\\n",
    "                                    maxDepth=16, maxBins=227612, seed=1)\n",
    "end = time()\n",
    "timePassed = end - start\n",
    "print(timePassed)\n",
    "predictions = model.predict(testData.map(lambda x: x.features))\n",
    "labelsPredictions = testData.map(lambda x: x.label).zip(predictions)\n",
    "accuracy = labelsPredictions.filter(lambda x: x[0] == x[1]).count()/float(testData.count())\n",
    "print(accuracy*100)"
   ]
  },
  {
   "cell_type": "code",
   "execution_count": 356,
   "metadata": {},
   "outputs": [
    {
     "name": "stderr",
     "output_type": "stream",
     "text": [
      "/Users/NickLaBoy/Downloads/anaconda3/lib/python3.8/site-packages/pyspark/sql/context.py:125: FutureWarning: Deprecated in 3.0.0. Use SparkSession.builder.getOrCreate() instead.\n",
      "  warnings.warn(\n"
     ]
    },
    {
     "name": "stdout",
     "output_type": "stream",
     "text": [
      "This is using Random Forest\n",
      "The F1 Score is: 0.538462\n"
     ]
    }
   ],
   "source": [
    "metrics = MulticlassMetrics(labelsPredictions)\n",
    "precision = metrics.precision\n",
    "recall = metrics.recall\n",
    "f1Score = metrics.weightedFMeasure()\n",
    "print(\"This is using Random Forest\")\n",
    "print(\"The F1 Score is: %g\" %f1Score)"
   ]
  },
  {
   "cell_type": "code",
   "execution_count": null,
   "metadata": {},
   "outputs": [],
   "source": []
  }
 ],
 "metadata": {
  "kernelspec": {
   "display_name": "Python 3",
   "language": "python",
   "name": "python3"
  },
  "language_info": {
   "codemirror_mode": {
    "name": "ipython",
    "version": 3
   },
   "file_extension": ".py",
   "mimetype": "text/x-python",
   "name": "python",
   "nbconvert_exporter": "python",
   "pygments_lexer": "ipython3",
   "version": "3.8.3"
  }
 },
 "nbformat": 4,
 "nbformat_minor": 4
}
